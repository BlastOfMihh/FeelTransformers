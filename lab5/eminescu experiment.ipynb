{
  "cells": [
    {
      "cell_type": "markdown",
      "source": [
        "# Hyper Parameters"
      ],
      "metadata": {
        "id": "fhzxJxgtjzrN"
      }
    },
    {
      "cell_type": "code",
      "source": [
        "import torch\n",
        "import torch.nn as nn\n",
        "from torch.nn import functional as F\n",
        "\n",
        "# hyperparameters\n",
        "batch_size = 16 # how many independent sequences will we process in parallel?\n",
        "block_size = 32 # what is the maximum context length for predictions?\n",
        "max_iters = 4000\n",
        "eval_interval = 100\n",
        "learning_rate = 1e-3\n",
        "device = 'cuda' if torch.cuda.is_available() else 'cpu'\n",
        "eval_iters = 200\n",
        "n_embd = 64\n",
        "n_head = 4\n",
        "n_layer = 4\n",
        "dropout = 0.0\n",
        "# ------------\n",
        "feel_count=16\n",
        "feel_embd=32\n",
        "# ------------\n",
        "\n",
        "\n",
        "torch.manual_seed(1337)"
      ],
      "metadata": {
        "id": "0TdMs5CMjIvY",
        "outputId": "a713c1d2-dd1e-423a-ba1c-099e684bce20",
        "colab": {
          "base_uri": "https://localhost:8080/"
        }
      },
      "execution_count": 61,
      "outputs": [
        {
          "output_type": "execute_result",
          "data": {
            "text/plain": [
              "<torch._C.Generator at 0x78f2d97e7e50>"
            ]
          },
          "metadata": {},
          "execution_count": 61
        }
      ]
    },
    {
      "cell_type": "markdown",
      "source": [
        "# Data loading"
      ],
      "metadata": {
        "id": "Q5Yk9RulkNbo"
      }
    },
    {
      "cell_type": "code",
      "execution_count": 62,
      "metadata": {
        "id": "dgJN0y6_IB-X",
        "outputId": "d249e141-2897-4270-aa1d-af99eaa022ef",
        "colab": {
          "base_uri": "https://localhost:8080/"
        }
      },
      "outputs": [
        {
          "output_type": "stream",
          "name": "stdout",
          "text": [
            "Mounted at /content/drive\n"
          ]
        }
      ],
      "source": [
        "from google.colab import drive\n",
        "drive.mount('/content/drive')\n",
        "with open(\"/content/drive/MyDrive/LLm fighthing/eminescu.txt\", \"r\", encoding=\"utf-8\") as f:\n",
        "  text=f.read()"
      ]
    },
    {
      "cell_type": "markdown",
      "source": [
        "#Creating the dataset, Encoder, Decoder\n"
      ],
      "metadata": {
        "id": "0RAxnyLIegE-"
      }
    },
    {
      "cell_type": "code",
      "source": [
        "# here are all the unique characters that occur in this text\n",
        "chars = sorted(list(set(text)))\n",
        "vocab_size = len(chars)\n",
        "# create a mapping from characters to integers\n",
        "stoi = { ch:i for i,ch in enumerate(chars) }\n",
        "itos = { i:ch for i,ch in enumerate(chars) }\n",
        "encode = lambda s: [stoi[c] for c in s] # encoder: take a string, output a list of integers\n",
        "decode = lambda l: ''.join([itos[i] for i in l]) # decoder: take a list of integers, output a string\n",
        "\n",
        "# Train and test splits\n",
        "data = torch.tensor(encode(text), dtype=torch.long)\n",
        "n = int(0.9*len(data)) # first 90% will be train, rest val\n",
        "train_data = data[:n]\n",
        "val_data = data[n:]\n",
        "\n",
        "# data loading\n",
        "def get_batch(split):\n",
        "    # generate a small batch of data of inputs x and targets y\n",
        "    data = train_data if split == 'train' else val_data\n",
        "    ix = torch.randint(len(data) - block_size, (batch_size,))\n",
        "    x = torch.stack([data[i:i+block_size] for i in ix])\n",
        "    y = torch.stack([data[i+1:i+block_size+1] for i in ix])\n",
        "    x, y = x.to(device), y.to(device)\n",
        "    return x, y\n"
      ],
      "metadata": {
        "id": "wm1JwxmLehx0"
      },
      "execution_count": 63,
      "outputs": []
    },
    {
      "cell_type": "markdown",
      "source": [
        "#Model\n"
      ],
      "metadata": {
        "id": "HU12R4dqeqOw"
      }
    },
    {
      "cell_type": "code",
      "source": [
        "# The feel stuff\n",
        "class FeelHead(nn.Module):\n",
        "    \"\"\" one head of self-attention \"\"\"\n",
        "    def __init__(self, head_size):\n",
        "        super().__init__()\n",
        "        self.query = nn.Linear(n_embd, head_size, bias=False)\n",
        "        self.key = nn.Linear(feel_embd, head_size, bias=False)\n",
        "\n",
        "        self.value = nn.Linear(feel_embd, head_size, bias=False)\n",
        "\n",
        "        self.feelings = torch.rand(feel_count, feel_embd).to(device)\n",
        "\n",
        "        #self.register_buffer('tril', torch.tril(torch.ones(block_size, block_size)))\n",
        "        self.dropout = nn.Dropout(dropout)\n",
        "\n",
        "    def forward(self, x):\n",
        "        B,T,C = x.shape\n",
        "        q = self.query(x) # (B,T,C)\n",
        "\n",
        "        k = self.key(self.feelings) # (f_cnt, C)\n",
        "        k = k.expand(B, -1,-1) # (B, F_cnt, C)\n",
        "\n",
        "        # compute attention scores (\"affinities\")\n",
        "        wei = q @ k.transpose(-2,-1) * C**-0.5 # (B, T, C) @ (B, C, F_cnt) -> (B, T, F_cnt)\n",
        "        #wei = wei.masked_fill(self.tril[:T, :T] == 0, float('-inf')) # (B, T, )\n",
        "        wei = F.softmax(wei, dim=-1) # (B, T, T)\n",
        "        wei = self.dropout(wei)\n",
        "        # perform the weighted aggregation of the values\n",
        "        v = self.value(self.feelings) # (f_cnt, C)\n",
        "        v = v.expand(B,-1,-1) # (B, F_cnt, C)\n",
        "        out = wei @ v # (B, T, F_cnt) @ (B, F_cnt, C) -> (B, T, C)\n",
        "        return out\n",
        "\n",
        "\n",
        "class MultiHeadFeeling(nn.Module):\n",
        "    \"\"\" multiple heads of self-attention in parallel \"\"\"\n",
        "\n",
        "    def __init__(self, num_heads, head_size):\n",
        "        super().__init__()\n",
        "        self.heads = nn.ModuleList([FeelHead(head_size) for _ in range(num_heads)])\n",
        "        self.proj = nn.Linear(n_embd, n_embd)\n",
        "        self.dropout = nn.Dropout(dropout)\n",
        "\n",
        "    def forward(self, x):\n",
        "        out = torch.cat([h(x) for h in self.heads], dim=-1)\n",
        "        out = self.dropout(self.proj(out))\n",
        "        return out"
      ],
      "metadata": {
        "id": "ynNnlYyEi1bP"
      },
      "execution_count": 64,
      "outputs": []
    },
    {
      "cell_type": "code",
      "source": [
        "class Head(nn.Module):\n",
        "    \"\"\" one head of self-attention \"\"\"\n",
        "    def __init__(self, head_size):\n",
        "        super().__init__()\n",
        "        self.key = nn.Linear(n_embd, head_size, bias=False)\n",
        "        self.query = nn.Linear(n_embd, head_size, bias=False)\n",
        "        self.value = nn.Linear(n_embd, head_size, bias=False)\n",
        "        self.register_buffer('tril', torch.tril(torch.ones(block_size, block_size)))\n",
        "\n",
        "        self.dropout = nn.Dropout(dropout)\n",
        "\n",
        "    def forward(self, x):\n",
        "        B,T,C = x.shape\n",
        "        k = self.key(x)   # (B,T,C)\n",
        "        q = self.query(x) # (B,T,C)\n",
        "        # compute attention scores (\"affinities\")\n",
        "        wei = q @ k.transpose(-2,-1) * C**-0.5 # (B, T, C) @ (B, C, T) -> (B, T, T)\n",
        "        wei = wei.masked_fill(self.tril[:T, :T] == 0, float('-inf')) # (B, T, T)\n",
        "        wei = F.softmax(wei, dim=-1) # (B, T, T)\n",
        "        wei = self.dropout(wei)\n",
        "        # perform the weighted aggregation of the values\n",
        "        v = self.value(x) # (B,T,C)\n",
        "        out = wei @ v # (B, T, T) @ (B, T, C) -> (B, T, C)\n",
        "        return out\n",
        "\n",
        "class MultiHeadAttention(nn.Module):\n",
        "    \"\"\" multiple heads of self-attention in parallel \"\"\"\n",
        "\n",
        "    def __init__(self, num_heads, head_size):\n",
        "        super().__init__()\n",
        "        self.heads = nn.ModuleList([Head(head_size) for _ in range(num_heads)])\n",
        "        self.proj = nn.Linear(n_embd, n_embd)\n",
        "        self.dropout = nn.Dropout(dropout)\n",
        "\n",
        "    def forward(self, x):\n",
        "        out = torch.cat([h(x) for h in self.heads], dim=-1)\n",
        "        out = self.dropout(self.proj(out))\n",
        "        return out\n",
        "\n",
        "class FeedFoward(nn.Module):\n",
        "    \"\"\" a simple linear layer followed by a non-linearity \"\"\"\n",
        "\n",
        "    def __init__(self, n_embd):\n",
        "        super().__init__()\n",
        "        self.net = nn.Sequential(\n",
        "            nn.Linear(n_embd, 4 * n_embd),\n",
        "            nn.ReLU(),\n",
        "            nn.Linear(4 * n_embd, n_embd),\n",
        "            nn.Dropout(dropout),\n",
        "        )\n",
        "\n",
        "    def forward(self, x):\n",
        "        return self.net(x)\n",
        "\n",
        "class Block(nn.Module):\n",
        "    \"\"\" Transformer block: communication followed by computation \"\"\"\n",
        "\n",
        "    def __init__(self, n_embd, n_head, model_type):\n",
        "        # n_embd: embedding dimension, n_head: the number of heads we'd like\n",
        "        super().__init__()\n",
        "        head_size = n_embd // n_head\n",
        "        self.sa = MultiHeadAttention(n_head, head_size)\n",
        "        self.ln1 = nn.LayerNorm(n_embd)\n",
        "\n",
        "        self.ffwd = FeedFoward(n_embd)\n",
        "        self.ln2 = nn.LayerNorm(n_embd)\n",
        "\n",
        "        self.model_type=model_type\n",
        "        if model_type=='feel':\n",
        "          self.mh_feel=MultiHeadFeeling(n_head, head_size)\n",
        "          self.ln3 = nn.LayerNorm(n_embd)\n",
        "\n",
        "    def forward(self, x):\n",
        "        x = x + self.sa(self.ln1(x))\n",
        "        if self.model_type=='feel':\n",
        "          x = x + self.mh_feel(self.ln3(x))\n",
        "        x = x + self.ffwd(self.ln2(x))\n",
        "        return x\n",
        "\n",
        "\n",
        "# super simple bigram model\n",
        "class BigramLanguageModel(nn.Module):\n",
        "\n",
        "    def __init__(self, model_type):\n",
        "        super().__init__()\n",
        "        # each token directly reads off the logits for the next token from a lookup table\n",
        "        self.token_embedding_table = nn.Embedding(vocab_size, n_embd)\n",
        "        self.position_embedding_table = nn.Embedding(block_size, n_embd)\n",
        "        self.blocks = nn.Sequential(*[Block(n_embd, n_head=n_head, model_type=model_type) for _ in range(n_layer)])\n",
        "        self.ln_f = nn.LayerNorm(n_embd) # final layer norm\n",
        "        self.lm_head = nn.Linear(n_embd, vocab_size)\n",
        "\n",
        "    def forward(self, idx, targets=None):\n",
        "        B, T = idx.shape\n",
        "\n",
        "        # idx and targets are both (B,T) tensor of integers\n",
        "        tok_emb = self.token_embedding_table(idx) # (B,T,C)\n",
        "        pos_emb = self.position_embedding_table(torch.arange(T, device=device)) # (T,C)\n",
        "        x = tok_emb + pos_emb # (B,T,C)\n",
        "        x = self.blocks(x) # (B,T,C)\n",
        "        x = self.ln_f(x) # (B,T,C)\n",
        "        logits = self.lm_head(x) # (B,T,vocab_size)\n",
        "\n",
        "        if targets is None:\n",
        "            loss = None\n",
        "        else:\n",
        "            B, T, C = logits.shape\n",
        "            logits = logits.view(B*T, C)\n",
        "            targets = targets.view(B*T)\n",
        "            loss = F.cross_entropy(logits, targets)\n",
        "\n",
        "        return logits, loss\n",
        "\n",
        "    def generate(self, idx, max_new_tokens):\n",
        "        # idx is (B, T) array of indices in the current context\n",
        "        for _ in range(max_new_tokens):\n",
        "            # crop idx to the last block_size tokens\n",
        "            idx_cond = idx[:, -block_size:]\n",
        "            # get the predictions\n",
        "            logits, loss = self(idx_cond)\n",
        "            # focus only on the last time step\n",
        "            logits = logits[:, -1, :] # becomes (B, C)\n",
        "            # apply softmax to get probabilities\n",
        "            probs = F.softmax(logits, dim=-1) # (B, C)\n",
        "            # sample from the distribution\n",
        "            idx_next = torch.multinomial(probs, num_samples=1) # (B, 1)\n",
        "            # append sampled index to the running sequence\n",
        "            idx = torch.cat((idx, idx_next), dim=1) # (B, T+1)\n",
        "        return idx\n",
        "\n",
        "#model = BigramLanguageModel().to(device)\n",
        "#m = model.to(device)\n",
        "# print the number of parameters in the model\n",
        "#print(sum(p.numel() for p in m.parameters())/1e6, 'M parameters')\n",
        "\n"
      ],
      "metadata": {
        "id": "7hIAkhOHenNa"
      },
      "execution_count": 65,
      "outputs": []
    },
    {
      "cell_type": "markdown",
      "source": [
        "#Training and loss estimation functions\n"
      ],
      "metadata": {
        "id": "lgcpT2pWe5OV"
      }
    },
    {
      "cell_type": "code",
      "source": [
        "@torch.no_grad()\n",
        "def estimate_loss(model):\n",
        "    out = {}\n",
        "    model.eval()\n",
        "    for split in ['train', 'val']:\n",
        "        losses = torch.zeros(eval_iters)\n",
        "        for k in range(eval_iters):\n",
        "            X, Y = get_batch(split)\n",
        "            logits, loss = model(X, Y)\n",
        "            losses[k] = loss.item()\n",
        "        out[split] = losses.mean()\n",
        "    model.train()\n",
        "    return out\n",
        "\n",
        "# create a PyTorch optimizer\n",
        "def get_optimizer(model):\n",
        "  return torch.optim.AdamW(model.parameters(), lr=learning_rate)\n",
        "\n",
        "def train_model(model, optimizer, history):\n",
        "  for iter in range(max_iters):\n",
        "\n",
        "      # every once in a while evaluate the loss on train and val sets\n",
        "      if iter % eval_interval == 0 or iter == max_iters - 1:\n",
        "          losses = estimate_loss(model)\n",
        "          print(f\"step {iter}: train loss {losses['train']:.4f}, val loss {losses['val']:.4f}\")\n",
        "          history['train'].append(losses['train'])\n",
        "          history['val'].append(losses['val'])\n",
        "\n",
        "      # sample a batch of data\n",
        "      xb, yb = get_batch('train')\n",
        "\n",
        "      # evaluate the loss\n",
        "      logits, loss = model(xb, yb)\n",
        "      optimizer.zero_grad(set_to_none=True)\n",
        "      loss.backward()\n",
        "      optimizer.step()\n",
        "\n",
        "def generate_from_model(m):\n",
        "  # generate from the model\n",
        "  context = torch.zeros((1, 1), dtype=torch.long, device=device)\n",
        "  print(decode(m.generate(context, max_new_tokens=2000)[0].tolist()))\n"
      ],
      "metadata": {
        "id": "otjwJ-5Be9HN"
      },
      "execution_count": 66,
      "outputs": []
    },
    {
      "cell_type": "markdown",
      "source": [
        "#Plotting and comparisions"
      ],
      "metadata": {
        "id": "hQ3Us6N-fn1g"
      }
    },
    {
      "cell_type": "code",
      "source": [
        "history_regular={\n",
        "  'train':[],\n",
        "  'val':[]\n",
        "}\n",
        "history_feel={\n",
        "  'train':[],\n",
        "  'val':[]\n",
        "}"
      ],
      "metadata": {
        "id": "StHzo3IFfRWQ"
      },
      "execution_count": 67,
      "outputs": []
    },
    {
      "cell_type": "code",
      "source": [
        "model_regular = BigramLanguageModel('regular').to(device)\n",
        "model_feel = BigramLanguageModel('feel').to(device)"
      ],
      "metadata": {
        "id": "URITk4f_g01v"
      },
      "execution_count": 68,
      "outputs": []
    },
    {
      "cell_type": "code",
      "source": [
        "optimizer_regular=get_optimizer(model_regular)\n",
        "optimizer_feel=get_optimizer(model_feel)"
      ],
      "metadata": {
        "id": "vtyTCqg6hWPU"
      },
      "execution_count": 69,
      "outputs": []
    },
    {
      "cell_type": "code",
      "source": [
        "train_model(model_feel, optimizer_feel, history_feel)\n",
        "train_model(model_regular, optimizer_regular, history_regular)"
      ],
      "metadata": {
        "colab": {
          "base_uri": "https://localhost:8080/"
        },
        "id": "HM7lA73uhhNt",
        "outputId": "03caa2c7-f1b9-45e6-ec59-884e10f3444e"
      },
      "execution_count": 70,
      "outputs": [
        {
          "output_type": "stream",
          "name": "stdout",
          "text": [
            "step 0: train loss 4.2949, val loss 4.2714\n",
            "step 100: train loss 2.5902, val loss 2.6414\n",
            "step 200: train loss 2.4782, val loss 2.5431\n",
            "step 300: train loss 2.3893, val loss 2.4844\n",
            "step 400: train loss 2.2999, val loss 2.4113\n",
            "step 500: train loss 2.2216, val loss 2.3627\n",
            "step 600: train loss 2.1519, val loss 2.3117\n",
            "step 700: train loss 2.0960, val loss 2.2680\n",
            "step 800: train loss 2.0485, val loss 2.2238\n",
            "step 900: train loss 2.0176, val loss 2.2140\n",
            "step 1000: train loss 1.9631, val loss 2.1850\n",
            "step 1100: train loss 1.9261, val loss 2.1498\n",
            "step 1200: train loss 1.9102, val loss 2.1560\n",
            "step 1300: train loss 1.8798, val loss 2.1533\n",
            "step 1400: train loss 1.8446, val loss 2.1319\n",
            "step 1500: train loss 1.8159, val loss 2.1213\n",
            "step 1600: train loss 1.7959, val loss 2.1174\n",
            "step 1700: train loss 1.7580, val loss 2.0971\n",
            "step 1800: train loss 1.7336, val loss 2.1166\n",
            "step 1900: train loss 1.7252, val loss 2.1082\n",
            "step 2000: train loss 1.6948, val loss 2.0898\n",
            "step 2100: train loss 1.6796, val loss 2.1184\n",
            "step 2200: train loss 1.6560, val loss 2.1239\n",
            "step 2300: train loss 1.6219, val loss 2.0974\n",
            "step 2400: train loss 1.6063, val loss 2.0880\n",
            "step 2500: train loss 1.5849, val loss 2.0833\n",
            "step 2600: train loss 1.5681, val loss 2.1152\n",
            "step 2700: train loss 1.5481, val loss 2.1362\n",
            "step 2800: train loss 1.5348, val loss 2.1165\n",
            "step 2900: train loss 1.4998, val loss 2.1143\n",
            "step 3000: train loss 1.4807, val loss 2.1316\n",
            "step 3100: train loss 1.4646, val loss 2.1841\n",
            "step 3200: train loss 1.4555, val loss 2.1576\n",
            "step 3300: train loss 1.4444, val loss 2.1871\n",
            "step 3400: train loss 1.4172, val loss 2.1733\n",
            "step 3500: train loss 1.3994, val loss 2.1677\n",
            "step 3600: train loss 1.3702, val loss 2.1957\n",
            "step 3700: train loss 1.3627, val loss 2.2247\n",
            "step 3800: train loss 1.3370, val loss 2.2078\n",
            "step 3900: train loss 1.3179, val loss 2.2136\n",
            "step 3999: train loss 1.3092, val loss 2.2362\n",
            "step 0: train loss 4.3761, val loss 4.3771\n",
            "step 100: train loss 2.5820, val loss 2.6270\n",
            "step 200: train loss 2.4487, val loss 2.5436\n",
            "step 300: train loss 2.3594, val loss 2.4596\n",
            "step 400: train loss 2.2700, val loss 2.3902\n",
            "step 500: train loss 2.2062, val loss 2.3522\n",
            "step 600: train loss 2.1422, val loss 2.2985\n",
            "step 700: train loss 2.0873, val loss 2.2552\n",
            "step 800: train loss 2.0562, val loss 2.2308\n",
            "step 900: train loss 1.9996, val loss 2.1901\n",
            "step 1000: train loss 1.9606, val loss 2.1668\n",
            "step 1100: train loss 1.9204, val loss 2.1607\n",
            "step 1200: train loss 1.9024, val loss 2.1272\n",
            "step 1300: train loss 1.8754, val loss 2.1403\n",
            "step 1400: train loss 1.8392, val loss 2.1194\n",
            "step 1500: train loss 1.8024, val loss 2.1078\n",
            "step 1600: train loss 1.7905, val loss 2.1117\n",
            "step 1700: train loss 1.7724, val loss 2.0981\n",
            "step 1800: train loss 1.7377, val loss 2.1076\n",
            "step 1900: train loss 1.7069, val loss 2.0962\n",
            "step 2000: train loss 1.6896, val loss 2.1103\n",
            "step 2100: train loss 1.6613, val loss 2.0927\n",
            "step 2200: train loss 1.6495, val loss 2.0947\n",
            "step 2300: train loss 1.6266, val loss 2.0988\n",
            "step 2400: train loss 1.6102, val loss 2.0819\n",
            "step 2500: train loss 1.5792, val loss 2.1198\n",
            "step 2600: train loss 1.5553, val loss 2.0946\n",
            "step 2700: train loss 1.5386, val loss 2.1166\n",
            "step 2800: train loss 1.5263, val loss 2.1183\n",
            "step 2900: train loss 1.5060, val loss 2.1187\n",
            "step 3000: train loss 1.4800, val loss 2.1251\n",
            "step 3100: train loss 1.4703, val loss 2.1507\n",
            "step 3200: train loss 1.4446, val loss 2.1575\n",
            "step 3300: train loss 1.4299, val loss 2.1748\n",
            "step 3400: train loss 1.4033, val loss 2.2051\n",
            "step 3500: train loss 1.3877, val loss 2.1894\n",
            "step 3600: train loss 1.3852, val loss 2.1939\n",
            "step 3700: train loss 1.3564, val loss 2.2034\n",
            "step 3800: train loss 1.3423, val loss 2.2359\n",
            "step 3900: train loss 1.3334, val loss 2.2080\n",
            "step 3999: train loss 1.3054, val loss 2.2510\n"
          ]
        }
      ]
    },
    {
      "cell_type": "code",
      "source": [
        "import matplotlib.pyplot as plt\n",
        "\n",
        "plt.plot(history_regular['train'], label='Regular Train Loss', color='blue')\n",
        "plt.plot(history_regular['val'], label='Regular Validation Loss', color='lightblue')\n",
        "plt.plot(history_feel['train'], label='Feel Train Loss', color='red')\n",
        "plt.plot(history_feel['val'], label='Feel Validation Loss', color='salmon')\n",
        "plt.xlabel('Iteration')\n",
        "plt.ylabel('Loss')\n",
        "plt.title('Training and Validation Loss History')\n",
        "plt.legend()\n",
        "plt.show()"
      ],
      "metadata": {
        "colab": {
          "base_uri": "https://localhost:8080/",
          "height": 472
        },
        "id": "crqoJymEh4mj",
        "outputId": "b04f69fa-5f21-4444-f782-f682648535ec"
      },
      "execution_count": 71,
      "outputs": [
        {
          "output_type": "display_data",
          "data": {
            "text/plain": [
              "<Figure size 640x480 with 1 Axes>"
            ],
            "image/png": "[encoded data removed]"
          },
          "metadata": {}
        }
      ]
    }
  ],
  "metadata": {
    "accelerator": "GPU",
    "colab": {
      "gpuType": "T4",
      "provenance": []
    },
    "kernelspec": {
      "display_name": "Python 3",
      "name": "python3"
    },
    "language_info": {
      "name": "python"
    }
  },
  "nbformat": 4,
  "nbformat_minor": 0
}